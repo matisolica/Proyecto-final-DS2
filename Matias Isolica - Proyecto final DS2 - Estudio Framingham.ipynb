{
 "cells": [
  {
   "cell_type": "markdown",
   "metadata": {},
   "source": [
    "# **Estudio Framingham de riesgo cardiovascular**"
   ]
  },
  {
   "cell_type": "markdown",
   "metadata": {},
   "source": [
    "### **INTRODUCCIÓN**\n",
    "\n",
    "El Estudio Framingham es un proyecto de investigación que estudia los factores de riesgo de las enfermedades cardiovasculares (ECV). Se inició en 1948 en Framingham, Massachusetts, y es considerado una de las aportaciones epidemiológicas más importantes en el campo de las ECV. \n",
    "\n",
    "El estudio Framingham es un estudio de cohorte observacional basado en la población que fue iniciado por el Servicio de Salud Pública de los Estados Unidos en 1948 para investigar prospectivamente la epidemiología y los factores de riesgo de las enfermedades cardiovasculares. Se ha convertido en un estudio longitudinal en curso que recopila datos prospectivos sobre una amplia variedad de factores de riesgo biológicos y de estilo de vida y sobre los resultados de enfermedades cardiovasculares, neurológicas y de otro tipo en 3 generaciones de participantes. Si bien inicialmente se centró en la evaluación clínica de los factores de riesgo y la enfermedad, el estudio ha evolucionado, incorporando avances en la ciencia médica (criterios de diagnóstico más nuevos, ensayos de biomarcadores y tecnologías de imágenes) a medida que estos estuvieron disponibles. Se dispone de amplios datos de genotipado de más del 60% de todos los participantes (incluido más del 90% de las personas que asistieron a los exámenes después de 1990) y se han almacenado muestras de suero y plasma de exámenes sucesivos para estudios futuros.\n",
    "\n",
    "El estudio comenzó en 1948-50 con el reclutamiento de la cohorte Original (5209 participantes; 2873 mujeres, 2336 hombres; edad 28-62 años, edad promedio 45 años) que comprendía dos tercios de la población adulta que entonces residía en la ciudad de Framingham. , MA. Estas personas han sido evaluadas cada dos años y actualmente se encuentran en el 29º examen bienal. En 1971, los hijos de los miembros de la cohorte Original y sus cónyuges se reunieron en la cohorte de Hijos (5124 personas, 2641 mujeres, 2483 hombres; edad de 5 a 70 años, edad media de 37 años; 3514 descendientes biológicos). Los miembros de esta cohorte han sido reevaluados 7 veces. A partir de 002, se reclutó una tercera generación y esta cohorte Gen 3 comprende 4095 personas (2183 mujeres, 1912 hombres; edad media 40 años) que se han sometido a un examen inicial. En cada examen del estudio, los participantes son evaluados con historiales médicos, exámenes médicos, pruebas de laboratorio para factores de riesgo vascular y, en algunos exámenes, con baterías de pruebas cognitivas e imágenes cerebrales.\n",
    "\n"
   ]
  },
  {
   "cell_type": "code",
   "execution_count": null,
   "metadata": {},
   "outputs": [],
   "source": []
  }
 ],
 "metadata": {
  "kernelspec": {
   "display_name": "Python 3",
   "language": "python",
   "name": "python3"
  },
  "language_info": {
   "codemirror_mode": {
    "name": "ipython",
    "version": 3
   },
   "file_extension": ".py",
   "mimetype": "text/x-python",
   "name": "python",
   "nbconvert_exporter": "python",
   "pygments_lexer": "ipython3",
   "version": "3.11.9"
  }
 },
 "nbformat": 4,
 "nbformat_minor": 2
}
